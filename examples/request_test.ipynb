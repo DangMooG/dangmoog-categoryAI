{
 "cells": [
  {
   "cell_type": "code",
   "execution_count": null,
   "metadata": {},
   "outputs": [],
   "source": [
    "import requests\n",
    "import json\n",
    "#클라이언트가 실행되는 시스템이며, 클라이언트와 서버가 같은 시스템에서 실행되고 있을 때 사용\n",
    "url = \"http://127.0.0.1:8000/classification\"\n",
    "data = {\"text\":\"CGV 2시 영화 티켓 팔아요\"}\n",
    "res = requests.post(url, data=json.dumps(data))"
   ]
  },
  {
   "cell_type": "code",
   "execution_count": null,
   "metadata": {},
   "outputs": [],
   "source": [
    "print(res.text)"
   ]
  }
 ],
 "metadata": {
  "language_info": {
   "name": "python"
  },
  "orig_nbformat": 4
 },
 "nbformat": 4,
 "nbformat_minor": 2
}
